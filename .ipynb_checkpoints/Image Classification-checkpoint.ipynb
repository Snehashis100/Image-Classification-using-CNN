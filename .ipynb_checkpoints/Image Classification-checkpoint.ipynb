{
 "cells": [
  {
   "cell_type": "code",
   "execution_count": 1,
   "metadata": {},
   "outputs": [],
   "source": [
    "import tensorflow as tf\n",
    "from keras import datasets,layers,models\n",
    "import matplotlib.pyplot as plt\n",
    "import numpy as np"
   ]
  },
  {
   "cell_type": "code",
   "execution_count": 2,
   "metadata": {},
   "outputs": [],
   "source": [
    "(X_train,y_train),(X_test,y_test)=datasets.cifar10.load_data()"
   ]
  },
  {
   "cell_type": "code",
   "execution_count": 3,
   "metadata": {},
   "outputs": [
    {
     "data": {
      "text/plain": [
       "((50000, 32, 32, 3), (50000, 1))"
      ]
     },
     "execution_count": 3,
     "metadata": {},
     "output_type": "execute_result"
    }
   ],
   "source": [
    "X_train.shape,y_train.shape # X_train has 50k images with a size of 32*32*3 each"
   ]
  },
  {
   "cell_type": "code",
   "execution_count": 4,
   "metadata": {},
   "outputs": [
    {
     "data": {
      "text/plain": [
       "array([[[ 59,  62,  63],\n",
       "        [ 43,  46,  45],\n",
       "        [ 50,  48,  43],\n",
       "        ...,\n",
       "        [158, 132, 108],\n",
       "        [152, 125, 102],\n",
       "        [148, 124, 103]],\n",
       "\n",
       "       [[ 16,  20,  20],\n",
       "        [  0,   0,   0],\n",
       "        [ 18,   8,   0],\n",
       "        ...,\n",
       "        [123,  88,  55],\n",
       "        [119,  83,  50],\n",
       "        [122,  87,  57]],\n",
       "\n",
       "       [[ 25,  24,  21],\n",
       "        [ 16,   7,   0],\n",
       "        [ 49,  27,   8],\n",
       "        ...,\n",
       "        [118,  84,  50],\n",
       "        [120,  84,  50],\n",
       "        [109,  73,  42]],\n",
       "\n",
       "       ...,\n",
       "\n",
       "       [[208, 170,  96],\n",
       "        [201, 153,  34],\n",
       "        [198, 161,  26],\n",
       "        ...,\n",
       "        [160, 133,  70],\n",
       "        [ 56,  31,   7],\n",
       "        [ 53,  34,  20]],\n",
       "\n",
       "       [[180, 139,  96],\n",
       "        [173, 123,  42],\n",
       "        [186, 144,  30],\n",
       "        ...,\n",
       "        [184, 148,  94],\n",
       "        [ 97,  62,  34],\n",
       "        [ 83,  53,  34]],\n",
       "\n",
       "       [[177, 144, 116],\n",
       "        [168, 129,  94],\n",
       "        [179, 142,  87],\n",
       "        ...,\n",
       "        [216, 184, 140],\n",
       "        [151, 118,  84],\n",
       "        [123,  92,  72]]], dtype=uint8)"
      ]
     },
     "execution_count": 4,
     "metadata": {},
     "output_type": "execute_result"
    }
   ],
   "source": [
    "X_train[0] # Displaying the 1st image (pixel value ranges between 0-255)"
   ]
  },
  {
   "cell_type": "code",
   "execution_count": 5,
   "metadata": {},
   "outputs": [
    {
     "data": {
      "text/plain": [
       "(10000, 32, 32, 3)"
      ]
     },
     "execution_count": 5,
     "metadata": {},
     "output_type": "execute_result"
    }
   ],
   "source": [
    "X_test.shape\n",
    "# We will be unable to convert in into a dataframe as it takes 2d data"
   ]
  },
  {
   "cell_type": "code",
   "execution_count": 6,
   "metadata": {},
   "outputs": [
    {
     "data": {
      "text/plain": [
       "array([[6],\n",
       "       [9],\n",
       "       [9],\n",
       "       [4],\n",
       "       [1]], dtype=uint8)"
      ]
     },
     "execution_count": 6,
     "metadata": {},
     "output_type": "execute_result"
    }
   ],
   "source": [
    "y_train[:5]"
   ]
  },
  {
   "cell_type": "code",
   "execution_count": 7,
   "metadata": {},
   "outputs": [
    {
     "data": {
      "text/plain": [
       "(5, 1)"
      ]
     },
     "execution_count": 7,
     "metadata": {},
     "output_type": "execute_result"
    }
   ],
   "source": [
    "y_train[:5].shape"
   ]
  },
  {
   "cell_type": "code",
   "execution_count": 8,
   "metadata": {},
   "outputs": [
    {
     "data": {
      "text/plain": [
       "array([6, 9, 9, 4, 1], dtype=uint8)"
      ]
     },
     "execution_count": 8,
     "metadata": {},
     "output_type": "execute_result"
    }
   ],
   "source": [
    "# Converting the labels from 2d to 1d\n",
    "y_train=y_train.reshape(-1,)\n",
    "y_train[:5]"
   ]
  },
  {
   "cell_type": "code",
   "execution_count": 9,
   "metadata": {},
   "outputs": [
    {
     "data": {
      "text/plain": [
       "array([3, 8, 8, 0, 6], dtype=uint8)"
      ]
     },
     "execution_count": 9,
     "metadata": {},
     "output_type": "execute_result"
    }
   ],
   "source": [
    "y_test=y_test.reshape(-1,)\n",
    "y_test[:5]"
   ]
  },
  {
   "cell_type": "code",
   "execution_count": 10,
   "metadata": {},
   "outputs": [],
   "source": [
    "# The classes are:\n",
    "# Label===>Description\n",
    "# 0===>airplane\n",
    "# 1===>automobile\n",
    "# 2===>bird\n",
    "# 3===>cat\n",
    "# 4===>deer\n",
    "# 5===>dog\n",
    "# 6===>frog\n",
    "# 7===>horse\n",
    "# 8===>ship\n",
    "# 9===>truck"
   ]
  },
  {
   "cell_type": "code",
   "execution_count": 11,
   "metadata": {},
   "outputs": [],
   "source": [
    "classes=[\"airplane\",\"automobile\",\"bird\",\"cat\",\"deer\",\"dog\",\"frog\",\"horse\",\"ship\",\"truck\"]"
   ]
  },
  {
   "cell_type": "code",
   "execution_count": 12,
   "metadata": {},
   "outputs": [
    {
     "data": {
      "text/plain": [
       "<matplotlib.image.AxesImage at 0x1faa7f4dca0>"
      ]
     },
     "execution_count": 12,
     "metadata": {},
     "output_type": "execute_result"
    },
    {
     "data": {
      "image/png": "[encoded data removed]",
      "text/plain": [
       "<Figure size 1080x144 with 1 Axes>"
      ]
     },
     "metadata": {
      "needs_background": "light"
     },
     "output_type": "display_data"
    }
   ],
   "source": [
    "plt.figure(figsize = (15,2))\n",
    "plt.imshow(X_train[0])\n",
    "# displaying the some image  from our dataset"
   ]
  },
  {
   "cell_type": "code",
   "execution_count": 13,
   "metadata": {},
   "outputs": [
    {
     "data": {
      "text/plain": [
       "<matplotlib.image.AxesImage at 0x1faaaf9e0d0>"
      ]
     },
     "execution_count": 13,
     "metadata": {},
     "output_type": "execute_result"
    },
    {
     "data": {
      "image/png": "[encoded data removed]",
      "text/plain": [
       "<Figure size 1080x144 with 1 Axes>"
      ]
     },
     "metadata": {
      "needs_background": "light"
     },
     "output_type": "display_data"
    }
   ],
   "source": [
    "plt.figure(figsize = (15,2))\n",
    "plt.imshow(X_train[1])"
   ]
  },
  {
   "cell_type": "code",
   "execution_count": 14,
   "metadata": {},
   "outputs": [
    {
     "data": {
      "text/plain": [
       "<matplotlib.image.AxesImage at 0x1faaafe7d30>"
      ]
     },
     "execution_count": 14,
     "metadata": {},
     "output_type": "execute_result"
    },
    {
     "data": {
      "image/png": "[encoded data removed]",
      "text/plain": [
       "<Figure size 1080x144 with 1 Axes>"
      ]
     },
     "metadata": {
      "needs_background": "light"
     },
     "output_type": "display_data"
    }
   ],
   "source": [
    "plt.figure(figsize = (15,2))\n",
    "plt.imshow(X_test[1])"
   ]
  },
  {
   "cell_type": "code",
   "execution_count": 15,
   "metadata": {},
   "outputs": [],
   "source": [
    "def Show_Image(x,index,y,classes):\n",
    "    plt.figure(figsize = (15,2))\n",
    "    plt.imshow(x[index])\n",
    "    plt.xlabel(classes[y[index]])\n",
    "    plt.show()"
   ]
  },
  {
   "cell_type": "code",
   "execution_count": 16,
   "metadata": {},
   "outputs": [
    {
     "data": {
      "image/png": "[encoded data removed]",
      "text/plain": [
       "<Figure size 1080x144 with 1 Axes>"
      ]
     },
     "metadata": {
      "needs_background": "light"
     },
     "output_type": "display_data"
    }
   ],
   "source": [
    "Show_Image(X_train,5,y_train,classes)"
   ]
  },
  {
   "cell_type": "code",
   "execution_count": 17,
   "metadata": {},
   "outputs": [],
   "source": [
    "# Normalizing the images so that the computation cost decresases while processing the images with the help of our CNN model\n",
    "X_train=X_train/255."
   ]
  },
  {
   "cell_type": "code",
   "execution_count": 18,
   "metadata": {},
   "outputs": [
    {
     "data": {
      "text/plain": [
       "array([[[0.23137255, 0.24313725, 0.24705882],\n",
       "        [0.16862745, 0.18039216, 0.17647059],\n",
       "        [0.19607843, 0.18823529, 0.16862745],\n",
       "        ...,\n",
       "        [0.61960784, 0.51764706, 0.42352941],\n",
       "        [0.59607843, 0.49019608, 0.4       ],\n",
       "        [0.58039216, 0.48627451, 0.40392157]],\n",
       "\n",
       "       [[0.0627451 , 0.07843137, 0.07843137],\n",
       "        [0.        , 0.        , 0.        ],\n",
       "        [0.07058824, 0.03137255, 0.        ],\n",
       "        ...,\n",
       "        [0.48235294, 0.34509804, 0.21568627],\n",
       "        [0.46666667, 0.3254902 , 0.19607843],\n",
       "        [0.47843137, 0.34117647, 0.22352941]],\n",
       "\n",
       "       [[0.09803922, 0.09411765, 0.08235294],\n",
       "        [0.0627451 , 0.02745098, 0.        ],\n",
       "        [0.19215686, 0.10588235, 0.03137255],\n",
       "        ...,\n",
       "        [0.4627451 , 0.32941176, 0.19607843],\n",
       "        [0.47058824, 0.32941176, 0.19607843],\n",
       "        [0.42745098, 0.28627451, 0.16470588]],\n",
       "\n",
       "       ...,\n",
       "\n",
       "       [[0.81568627, 0.66666667, 0.37647059],\n",
       "        [0.78823529, 0.6       , 0.13333333],\n",
       "        [0.77647059, 0.63137255, 0.10196078],\n",
       "        ...,\n",
       "        [0.62745098, 0.52156863, 0.2745098 ],\n",
       "        [0.21960784, 0.12156863, 0.02745098],\n",
       "        [0.20784314, 0.13333333, 0.07843137]],\n",
       "\n",
       "       [[0.70588235, 0.54509804, 0.37647059],\n",
       "        [0.67843137, 0.48235294, 0.16470588],\n",
       "        [0.72941176, 0.56470588, 0.11764706],\n",
       "        ...,\n",
       "        [0.72156863, 0.58039216, 0.36862745],\n",
       "        [0.38039216, 0.24313725, 0.13333333],\n",
       "        [0.3254902 , 0.20784314, 0.13333333]],\n",
       "\n",
       "       [[0.69411765, 0.56470588, 0.45490196],\n",
       "        [0.65882353, 0.50588235, 0.36862745],\n",
       "        [0.70196078, 0.55686275, 0.34117647],\n",
       "        ...,\n",
       "        [0.84705882, 0.72156863, 0.54901961],\n",
       "        [0.59215686, 0.4627451 , 0.32941176],\n",
       "        [0.48235294, 0.36078431, 0.28235294]]])"
      ]
     },
     "execution_count": 18,
     "metadata": {},
     "output_type": "execute_result"
    }
   ],
   "source": [
    "X_train[0]"
   ]
  },
  {
   "cell_type": "code",
   "execution_count": 19,
   "metadata": {},
   "outputs": [],
   "source": [
    "X_test=X_test/255."
   ]
  },
  {
   "cell_type": "code",
   "execution_count": 20,
   "metadata": {},
   "outputs": [
    {
     "data": {
      "image/png": "[encoded data removed]",
      "text/plain": [
       "<Figure size 1080x144 with 1 Axes>"
      ]
     },
     "metadata": {
      "needs_background": "light"
     },
     "output_type": "display_data"
    }
   ],
   "source": [
    "# Lets see how the image looks after normalization\n",
    "Show_Image(X_train,0,y_train,classes) # There is no change in the image even after normalization"
   ]
  },
  {
   "cell_type": "code",
   "execution_count": 23,
   "metadata": {},
   "outputs": [],
   "source": [
    "# Let's first create an initial cnn model with 3 convolution layers and 3 max pooling and then based on the accuracy we will decide\n",
    "# wheather to fine tune the model or not"
   ]
  },
  {
   "cell_type": "code",
   "execution_count": 24,
   "metadata": {},
   "outputs": [],
   "source": [
    "cnn = models.Sequential([\n",
    "    layers.Conv2D(filters=32, kernel_size=(3, 3), activation='relu', input_shape=(32, 32, 3)), # kernal_size is the size of the filter\n",
    "    layers.MaxPooling2D((2, 2)),\n",
    "    \n",
    "    layers.Conv2D(filters=50, kernel_size=(3, 3), activation='relu'),\n",
    "    layers.MaxPooling2D((2, 2)),\n",
    "    \n",
    "    layers.Conv2D(filters=64, kernel_size=(3, 3), activation='relu'),\n",
    "    layers.MaxPooling2D((2, 2)),\n",
    "    \n",
    "    layers.Flatten(),\n",
    "    layers.Dense(64, activation='relu'),\n",
    "    layers.Dense(10, activation='softmax')\n",
    "])"
   ]
  },
  {
   "cell_type": "code",
   "execution_count": 25,
   "metadata": {},
   "outputs": [],
   "source": [
    "cnn.compile(optimizer='adam',loss='sparse_categorical_crossentropy',metrics=['accuracy'])"
   ]
  },
  {
   "cell_type": "code",
   "execution_count": 26,
   "metadata": {},
   "outputs": [
    {
     "name": "stdout",
     "output_type": "stream",
     "text": [
      "Epoch 1/10\n",
      "1563/1563 [==============================] - 45s 29ms/step - loss: 1.5549 - accuracy: 0.4314\n",
      "Epoch 2/10\n",
      "1563/1563 [==============================] - 46s 29ms/step - loss: 1.2054 - accuracy: 0.5724\n",
      "Epoch 3/10\n",
      "1563/1563 [==============================] - 48s 31ms/step - loss: 1.0733 - accuracy: 0.6251\n",
      "Epoch 4/10\n",
      "1563/1563 [==============================] - 45s 29ms/step - loss: 0.9828 - accuracy: 0.6579\n",
      "Epoch 5/10\n",
      "1563/1563 [==============================] - 46s 30ms/step - loss: 0.9254 - accuracy: 0.6765\n",
      "Epoch 6/10\n",
      "1563/1563 [==============================] - 52s 33ms/step - loss: 0.8658 - accuracy: 0.6973\n",
      "Epoch 7/10\n",
      "1563/1563 [==============================] - 51s 33ms/step - loss: 0.8230 - accuracy: 0.7118\n",
      "Epoch 8/10\n",
      "1563/1563 [==============================] - 49s 31ms/step - loss: 0.7880 - accuracy: 0.7258\n",
      "Epoch 9/10\n",
      "1563/1563 [==============================] - 49s 31ms/step - loss: 0.7502 - accuracy: 0.7394\n",
      "Epoch 10/10\n",
      "1563/1563 [==============================] - 47s 30ms/step - loss: 0.7208 - accuracy: 0.7482\n"
     ]
    },
    {
     "data": {
      "text/plain": [
       "<tensorflow.python.keras.callbacks.History at 0x20446c28d30>"
      ]
     },
     "execution_count": 26,
     "metadata": {},
     "output_type": "execute_result"
    }
   ],
   "source": [
    "cnn.fit(X_train,y_train,epochs=10)"
   ]
  },
  {
   "cell_type": "code",
   "execution_count": 27,
   "metadata": {},
   "outputs": [],
   "source": [
    "# We are getting an accuracy of 74% on the train data using the cnn with the above configuration"
   ]
  },
  {
   "cell_type": "code",
   "execution_count": 28,
   "metadata": {},
   "outputs": [
    {
     "name": "stdout",
     "output_type": "stream",
     "text": [
      "313/313 [==============================] - 3s 10ms/step - loss: 0.8851 - accuracy: 0.6992\n"
     ]
    },
    {
     "data": {
      "text/plain": [
       "[0.8850563764572144, 0.6991999745368958]"
      ]
     },
     "execution_count": 28,
     "metadata": {},
     "output_type": "execute_result"
    }
   ],
   "source": [
    "cnn.evaluate(X_test,y_test)# 69% accuracy on the test set"
   ]
  },
  {
   "cell_type": "code",
   "execution_count": 29,
   "metadata": {},
   "outputs": [],
   "source": [
    "y_pred=cnn.predict(X_test)"
   ]
  },
  {
   "cell_type": "code",
   "execution_count": 30,
   "metadata": {},
   "outputs": [
    {
     "data": {
      "text/plain": [
       "array([0.00450892, 0.00114073, 0.01192842, 0.7274016 , 0.00793705,\n",
       "       0.14859442, 0.0463654 , 0.0009557 , 0.04885104, 0.00231687],\n",
       "      dtype=float32)"
      ]
     },
     "execution_count": 30,
     "metadata": {},
     "output_type": "execute_result"
    }
   ],
   "source": [
    "y_pred[0]"
   ]
  },
  {
   "cell_type": "code",
   "execution_count": 31,
   "metadata": {},
   "outputs": [],
   "source": [
    "# As we have used softmax activation function in the output layer it will give the probability of the test image to be in each\n",
    "# classes and by doing argmax we can get the index of the class having the highest probability"
   ]
  },
  {
   "cell_type": "code",
   "execution_count": 32,
   "metadata": {},
   "outputs": [
    {
     "data": {
      "text/plain": [
       "array([[4.50891722e-03, 1.14072510e-03, 1.19284177e-02, 7.27401614e-01,\n",
       "        7.93704949e-03, 1.48594424e-01, 4.63654026e-02, 9.55696800e-04,\n",
       "        4.88510355e-02, 2.31687049e-03],\n",
       "       [1.68213889e-01, 3.99281323e-01, 5.06954530e-06, 8.79501476e-06,\n",
       "        1.87927367e-06, 8.20308651e-06, 2.51815618e-06, 1.19195579e-06,\n",
       "        4.15609002e-01, 1.68680865e-02],\n",
       "       [4.82703298e-02, 1.62968323e-01, 8.83406308e-03, 3.90187800e-02,\n",
       "        2.64683436e-03, 8.62881728e-03, 3.07676569e-03, 1.89712178e-03,\n",
       "        6.76198423e-01, 4.84605171e-02],\n",
       "       [8.45295131e-01, 4.43619899e-02, 1.23131415e-02, 1.58752501e-03,\n",
       "        1.23987608e-02, 5.16138563e-04, 3.99701158e-03, 1.96910129e-04,\n",
       "        7.73520470e-02, 1.98139204e-03],\n",
       "       [8.38140913e-05, 3.74090559e-05, 4.86445874e-02, 3.20558017e-03,\n",
       "        5.20422518e-01, 2.44848081e-03, 4.24894035e-01, 5.18542365e-05,\n",
       "        2.06746365e-04, 4.82403721e-06]], dtype=float32)"
      ]
     },
     "execution_count": 32,
     "metadata": {},
     "output_type": "execute_result"
    }
   ],
   "source": [
    "y_pred[:5]"
   ]
  },
  {
   "cell_type": "code",
   "execution_count": 33,
   "metadata": {},
   "outputs": [
    {
     "data": {
      "text/plain": [
       "[3, 8, 8, 0, 4]"
      ]
     },
     "execution_count": 33,
     "metadata": {},
     "output_type": "execute_result"
    }
   ],
   "source": [
    "pred_classes=[np.argmax(prob) for prob in y_pred]\n",
    "pred_classes[:5]"
   ]
  },
  {
   "cell_type": "code",
   "execution_count": 34,
   "metadata": {},
   "outputs": [],
   "source": [
    "# The 1st 5 images havae been classified successfully as the pred_class and y_test value are same"
   ]
  },
  {
   "cell_type": "code",
   "execution_count": 35,
   "metadata": {},
   "outputs": [],
   "source": [
    "# lets check the preformance of the model wrt confusion matrix and classification report\n",
    "from sklearn.metrics import classification_report,confusion_matrix"
   ]
  },
  {
   "cell_type": "code",
   "execution_count": 36,
   "metadata": {},
   "outputs": [
    {
     "data": {
      "text/plain": [
       "array([[793,  20,  52,  12,  10,   8,   9,   3,  54,  39],\n",
       "       [ 41, 801,   4,   6,   5,  11,   9,   1,  31,  91],\n",
       "       [ 80,   4, 598,  46,  64, 106,  66,  11,  11,  14],\n",
       "       [ 23,   6,  88, 496,  56, 218,  61,  15,  12,  25],\n",
       "       [ 28,   2, 108,  64, 604,  79,  52,  44,  11,   8],\n",
       "       [ 19,   2,  63, 134,  27, 689,  20,  22,   6,  18],\n",
       "       [  6,   4,  57,  72,  22,  40, 776,   4,   6,  13],\n",
       "       [ 26,   3,  39,  54,  78, 135,   7, 621,   4,  33],\n",
       "       [ 98,  27,  21,  15,   6,   8,   6,   2, 779,  38],\n",
       "       [ 31,  55,  14,  12,   2,   6,   9,   7,  29, 835]], dtype=int64)"
      ]
     },
     "execution_count": 36,
     "metadata": {},
     "output_type": "execute_result"
    }
   ],
   "source": [
    "confusion_matrix(y_test,pred_classes)"
   ]
  },
  {
   "cell_type": "code",
   "execution_count": 37,
   "metadata": {},
   "outputs": [
    {
     "data": {
      "text/html": [
       "<div>\n",
       "<style scoped>\n",
       "    .dataframe tbody tr th:only-of-type {\n",
       "        vertical-align: middle;\n",
       "    }\n",
       "\n",
       "    .dataframe tbody tr th {\n",
       "        vertical-align: top;\n",
       "    }\n",
       "\n",
       "    .dataframe thead th {\n",
       "        text-align: right;\n",
       "    }\n",
       "</style>\n",
       "<table border=\"1\" class=\"dataframe\">\n",
       "  <thead>\n",
       "    <tr style=\"text-align: right;\">\n",
       "      <th></th>\n",
       "      <th>pred_airplane</th>\n",
       "      <th>pred_automobile</th>\n",
       "      <th>pred_bird</th>\n",
       "      <th>pred_cat</th>\n",
       "      <th>pred_deer</th>\n",
       "      <th>pred_dog</th>\n",
       "      <th>pred_frog</th>\n",
       "      <th>pred_horse</th>\n",
       "      <th>pred_ship</th>\n",
       "      <th>pred_truck</th>\n",
       "    </tr>\n",
       "  </thead>\n",
       "  <tbody>\n",
       "    <tr>\n",
       "      <th>actual_airplane</th>\n",
       "      <td>793</td>\n",
       "      <td>20</td>\n",
       "      <td>52</td>\n",
       "      <td>12</td>\n",
       "      <td>10</td>\n",
       "      <td>8</td>\n",
       "      <td>9</td>\n",
       "      <td>3</td>\n",
       "      <td>54</td>\n",
       "      <td>39</td>\n",
       "    </tr>\n",
       "    <tr>\n",
       "      <th>actual_automobile</th>\n",
       "      <td>41</td>\n",
       "      <td>801</td>\n",
       "      <td>4</td>\n",
       "      <td>6</td>\n",
       "      <td>5</td>\n",
       "      <td>11</td>\n",
       "      <td>9</td>\n",
       "      <td>1</td>\n",
       "      <td>31</td>\n",
       "      <td>91</td>\n",
       "    </tr>\n",
       "    <tr>\n",
       "      <th>actual_bird</th>\n",
       "      <td>80</td>\n",
       "      <td>4</td>\n",
       "      <td>598</td>\n",
       "      <td>46</td>\n",
       "      <td>64</td>\n",
       "      <td>106</td>\n",
       "      <td>66</td>\n",
       "      <td>11</td>\n",
       "      <td>11</td>\n",
       "      <td>14</td>\n",
       "    </tr>\n",
       "    <tr>\n",
       "      <th>actual_cat</th>\n",
       "      <td>23</td>\n",
       "      <td>6</td>\n",
       "      <td>88</td>\n",
       "      <td>496</td>\n",
       "      <td>56</td>\n",
       "      <td>218</td>\n",
       "      <td>61</td>\n",
       "      <td>15</td>\n",
       "      <td>12</td>\n",
       "      <td>25</td>\n",
       "    </tr>\n",
       "    <tr>\n",
       "      <th>actual_deer</th>\n",
       "      <td>28</td>\n",
       "      <td>2</td>\n",
       "      <td>108</td>\n",
       "      <td>64</td>\n",
       "      <td>604</td>\n",
       "      <td>79</td>\n",
       "      <td>52</td>\n",
       "      <td>44</td>\n",
       "      <td>11</td>\n",
       "      <td>8</td>\n",
       "    </tr>\n",
       "    <tr>\n",
       "      <th>actual_dog</th>\n",
       "      <td>19</td>\n",
       "      <td>2</td>\n",
       "      <td>63</td>\n",
       "      <td>134</td>\n",
       "      <td>27</td>\n",
       "      <td>689</td>\n",
       "      <td>20</td>\n",
       "      <td>22</td>\n",
       "      <td>6</td>\n",
       "      <td>18</td>\n",
       "    </tr>\n",
       "    <tr>\n",
       "      <th>actual_frog</th>\n",
       "      <td>6</td>\n",
       "      <td>4</td>\n",
       "      <td>57</td>\n",
       "      <td>72</td>\n",
       "      <td>22</td>\n",
       "      <td>40</td>\n",
       "      <td>776</td>\n",
       "      <td>4</td>\n",
       "      <td>6</td>\n",
       "      <td>13</td>\n",
       "    </tr>\n",
       "    <tr>\n",
       "      <th>actual_horse</th>\n",
       "      <td>26</td>\n",
       "      <td>3</td>\n",
       "      <td>39</td>\n",
       "      <td>54</td>\n",
       "      <td>78</td>\n",
       "      <td>135</td>\n",
       "      <td>7</td>\n",
       "      <td>621</td>\n",
       "      <td>4</td>\n",
       "      <td>33</td>\n",
       "    </tr>\n",
       "    <tr>\n",
       "      <th>actual_ship</th>\n",
       "      <td>98</td>\n",
       "      <td>27</td>\n",
       "      <td>21</td>\n",
       "      <td>15</td>\n",
       "      <td>6</td>\n",
       "      <td>8</td>\n",
       "      <td>6</td>\n",
       "      <td>2</td>\n",
       "      <td>779</td>\n",
       "      <td>38</td>\n",
       "    </tr>\n",
       "    <tr>\n",
       "      <th>actual_truck</th>\n",
       "      <td>31</td>\n",
       "      <td>55</td>\n",
       "      <td>14</td>\n",
       "      <td>12</td>\n",
       "      <td>2</td>\n",
       "      <td>6</td>\n",
       "      <td>9</td>\n",
       "      <td>7</td>\n",
       "      <td>29</td>\n",
       "      <td>835</td>\n",
       "    </tr>\n",
       "  </tbody>\n",
       "</table>\n",
       "</div>"
      ],
      "text/plain": [
       "                   pred_airplane  pred_automobile  pred_bird  pred_cat  \\\n",
       "actual_airplane              793               20         52        12   \n",
       "actual_automobile             41              801          4         6   \n",
       "actual_bird                   80                4        598        46   \n",
       "actual_cat                    23                6         88       496   \n",
       "actual_deer                   28                2        108        64   \n",
       "actual_dog                    19                2         63       134   \n",
       "actual_frog                    6                4         57        72   \n",
       "actual_horse                  26                3         39        54   \n",
       "actual_ship                   98               27         21        15   \n",
       "actual_truck                  31               55         14        12   \n",
       "\n",
       "                   pred_deer  pred_dog  pred_frog  pred_horse  pred_ship  \\\n",
       "actual_airplane           10         8          9           3         54   \n",
       "actual_automobile          5        11          9           1         31   \n",
       "actual_bird               64       106         66          11         11   \n",
       "actual_cat                56       218         61          15         12   \n",
       "actual_deer              604        79         52          44         11   \n",
       "actual_dog                27       689         20          22          6   \n",
       "actual_frog               22        40        776           4          6   \n",
       "actual_horse              78       135          7         621          4   \n",
       "actual_ship                6         8          6           2        779   \n",
       "actual_truck               2         6          9           7         29   \n",
       "\n",
       "                   pred_truck  \n",
       "actual_airplane            39  \n",
       "actual_automobile          91  \n",
       "actual_bird                14  \n",
       "actual_cat                 25  \n",
       "actual_deer                 8  \n",
       "actual_dog                 18  \n",
       "actual_frog                13  \n",
       "actual_horse               33  \n",
       "actual_ship                38  \n",
       "actual_truck              835  "
      ]
     },
     "execution_count": 37,
     "metadata": {},
     "output_type": "execute_result"
    }
   ],
   "source": [
    "import pandas as pd\n",
    "pd.DataFrame(confusion_matrix(y_test,pred_classes),columns=[f\"pred_{i}\" for i in classes],index=[f\"actual_{i}\" for i in classes])"
   ]
  },
  {
   "cell_type": "code",
   "execution_count": 38,
   "metadata": {},
   "outputs": [
    {
     "name": "stdout",
     "output_type": "stream",
     "text": [
      "              precision    recall  f1-score   support\n",
      "\n",
      "           0       0.69      0.79      0.74      1000\n",
      "           1       0.87      0.80      0.83      1000\n",
      "           2       0.57      0.60      0.59      1000\n",
      "           3       0.54      0.50      0.52      1000\n",
      "           4       0.69      0.60      0.64      1000\n",
      "           5       0.53      0.69      0.60      1000\n",
      "           6       0.76      0.78      0.77      1000\n",
      "           7       0.85      0.62      0.72      1000\n",
      "           8       0.83      0.78      0.80      1000\n",
      "           9       0.75      0.83      0.79      1000\n",
      "\n",
      "    accuracy                           0.70     10000\n",
      "   macro avg       0.71      0.70      0.70     10000\n",
      "weighted avg       0.71      0.70      0.70     10000\n",
      "\n"
     ]
    }
   ],
   "source": [
    "print(classification_report(y_test,pred_classes))"
   ]
  },
  {
   "cell_type": "code",
   "execution_count": 39,
   "metadata": {},
   "outputs": [],
   "source": [
    "# Checking some of the misclassified images\n",
    "def Get_Wrong_Pred_Index(y_test,pred_classes,start,end):\n",
    "    index_list=[]\n",
    "    for i,actual_class in enumerate(y_test[start:end]):\n",
    "        for j,predicted_class in enumerate(pred_classes[start:end]):\n",
    "            if i==j and actual_class!=predicted_class:\n",
    "                index_list.append(i+start)\n",
    "    return index_list"
   ]
  },
  {
   "cell_type": "code",
   "execution_count": 40,
   "metadata": {},
   "outputs": [
    {
     "data": {
      "text/plain": [
       "[4]"
      ]
     },
     "execution_count": 40,
     "metadata": {},
     "output_type": "execute_result"
    }
   ],
   "source": [
    "# getting the indices of the no of misclassified images from the 1st 10 predictions\n",
    "Get_Wrong_Pred_Index(y_test,pred_classes,0,10)"
   ]
  },
  {
   "cell_type": "code",
   "execution_count": 41,
   "metadata": {},
   "outputs": [
    {
     "data": {
      "image/png": "[encoded data removed]",
      "text/plain": [
       "<Figure size 1080x144 with 1 Axes>"
      ]
     },
     "metadata": {
      "needs_background": "light"
     },
     "output_type": "display_data"
    }
   ],
   "source": [
    "# So only the 5th image from the 1st 10 images is a misclassification lets check it\n",
    "Show_Image(X_test,4,y_test,classes)"
   ]
  },
  {
   "cell_type": "code",
   "execution_count": 42,
   "metadata": {},
   "outputs": [
    {
     "data": {
      "text/plain": [
       "'deer'"
      ]
     },
     "execution_count": 42,
     "metadata": {},
     "output_type": "execute_result"
    }
   ],
   "source": [
    "classes[pred_classes[4]] # the actual image was of frog and our model has predicted it as deer"
   ]
  },
  {
   "cell_type": "code",
   "execution_count": 43,
   "metadata": {},
   "outputs": [
    {
     "data": {
      "text/plain": [
       "[12, 17]"
      ]
     },
     "execution_count": 43,
     "metadata": {},
     "output_type": "execute_result"
    }
   ],
   "source": [
    "Get_Wrong_Pred_Index(y_test,pred_classes,10,20)"
   ]
  },
  {
   "cell_type": "code",
   "execution_count": 44,
   "metadata": {},
   "outputs": [
    {
     "data": {
      "image/png": "[encoded data removed]",
      "text/plain": [
       "<Figure size 1080x144 with 1 Axes>"
      ]
     },
     "metadata": {
      "needs_background": "light"
     },
     "output_type": "display_data"
    }
   ],
   "source": [
    "Show_Image(X_test,12,y_test,classes)"
   ]
  },
  {
   "cell_type": "code",
   "execution_count": 45,
   "metadata": {},
   "outputs": [
    {
     "data": {
      "text/plain": [
       "'frog'"
      ]
     },
     "execution_count": 45,
     "metadata": {},
     "output_type": "execute_result"
    }
   ],
   "source": [
    "classes[pred_classes[12]]"
   ]
  },
  {
   "cell_type": "code",
   "execution_count": 46,
   "metadata": {},
   "outputs": [],
   "source": [
    "# As some of the misclassified images where really hazy and tough to classify even by humans.So I think the cnn model has\n",
    "# done a decent job"
   ]
  },
  {
   "cell_type": "code",
   "execution_count": 53,
   "metadata": {},
   "outputs": [],
   "source": [
    "# Tuning the model\n",
    "def build_model(hp):\n",
    "    model = tf.keras.Sequential([\n",
    "    tf.keras.layers.Conv2D(\n",
    "        filters=hp.Int('conv_1_filter', min_value=32, max_value=128, step=16),\n",
    "        kernel_size=hp.Choice('conv_1_kernel', values = [3,5]),\n",
    "        activation='relu',\n",
    "        input_shape=(32,32,3)\n",
    "    ),\n",
    "    tf.keras.layers.Conv2D(\n",
    "        filters=hp.Int('conv_2_filter', min_value=64, max_value=256, step=16),\n",
    "        kernel_size=hp.Choice('conv_2_kernel', values = [3,5]),\n",
    "        activation='relu'\n",
    "    ),\n",
    "    tf.keras.layers.Conv2D(\n",
    "        filters=hp.Int('conv_3_filter', min_value=80, max_value=400, step=16),\n",
    "        kernel_size=hp.Choice('conv_3_kernel', values = [3,5]),\n",
    "        activation='relu'\n",
    "    ),\n",
    "    tf.keras.layers.Flatten(),\n",
    "    tf.keras.layers.Dense(\n",
    "        units=hp.Int('dense_1_units', min_value=32, max_value=256, step=16),\n",
    "        activation='relu'\n",
    "    ),\n",
    "    tf.keras.layers.Dense(10, activation='softmax')\n",
    "    ])\n",
    "  \n",
    "    model.compile(optimizer=tf.keras.optimizers.Adam(hp.Choice('learning_rate', values=[1e-2, 1e-3])),\n",
    "              loss='sparse_categorical_crossentropy',\n",
    "              metrics=['accuracy'])\n",
    "  \n",
    "    return model"
   ]
  },
  {
   "cell_type": "code",
   "execution_count": 54,
   "metadata": {},
   "outputs": [],
   "source": [
    "from kerastuner import RandomSearch"
   ]
  },
  {
   "cell_type": "code",
   "execution_count": 55,
   "metadata": {},
   "outputs": [],
   "source": [
    "tuner_search=RandomSearch(build_model,\n",
    "                          objective='val_accuracy',\n",
    "                          max_trials=5,directory='accuracy',project_name=\"ciphar10\")"
   ]
  },
  {
   "cell_type": "code",
   "execution_count": 56,
   "metadata": {},
   "outputs": [
    {
     "name": "stdout",
     "output_type": "stream",
     "text": [
      "Trial 5 Complete [00h 31m 07s]\n",
      "val_accuracy: 0.09860000014305115\n",
      "\n",
      "Best val_accuracy So Far: 0.63919997215271\n",
      "Total elapsed time: 03h 36m 11s\n",
      "INFO:tensorflow:Oracle triggered exit\n"
     ]
    }
   ],
   "source": [
    "tuner_search.search(X_train,y_train,epochs=3,validation_split=0.1)"
   ]
  },
  {
   "cell_type": "code",
   "execution_count": 57,
   "metadata": {},
   "outputs": [],
   "source": [
    "model=tuner_search.get_best_models(num_models=1)[0]"
   ]
  },
  {
   "cell_type": "code",
   "execution_count": 58,
   "metadata": {},
   "outputs": [
    {
     "name": "stdout",
     "output_type": "stream",
     "text": [
      "Model: \"sequential\"\n",
      "_________________________________________________________________\n",
      "Layer (type)                 Output Shape              Param #   \n",
      "=================================================================\n",
      "conv2d (Conv2D)              (None, 30, 30, 80)        2240      \n",
      "_________________________________________________________________\n",
      "conv2d_1 (Conv2D)            (None, 26, 26, 64)        128064    \n",
      "_________________________________________________________________\n",
      "conv2d_2 (Conv2D)            (None, 24, 24, 336)       193872    \n",
      "_________________________________________________________________\n",
      "flatten (Flatten)            (None, 193536)            0         \n",
      "_________________________________________________________________\n",
      "dense (Dense)                (None, 176)               34062512  \n",
      "_________________________________________________________________\n",
      "dense_1 (Dense)              (None, 10)                1770      \n",
      "=================================================================\n",
      "Total params: 34,388,458\n",
      "Trainable params: 34,388,458\n",
      "Non-trainable params: 0\n",
      "_________________________________________________________________\n"
     ]
    }
   ],
   "source": [
    "model.summary()"
   ]
  },
  {
   "cell_type": "code",
   "execution_count": 60,
   "metadata": {},
   "outputs": [],
   "source": [
    "cnn_model = models.Sequential([\n",
    "    layers.Conv2D(filters=80, kernel_size=(3, 3), activation='relu', input_shape=(32, 32, 3)), # kernal_size is the size of the filter\n",
    "    layers.MaxPooling2D((2, 2)),\n",
    "    \n",
    "    layers.Conv2D(filters=64, kernel_size=(3, 3), activation='relu'),\n",
    "    layers.MaxPooling2D((2, 2)),\n",
    "    \n",
    "    layers.Conv2D(filters=336, kernel_size=(3, 3), activation='relu'),\n",
    "    layers.MaxPooling2D((2, 2)),\n",
    "    \n",
    "    layers.Flatten(),\n",
    "    layers.Dense(176, activation='relu'),\n",
    "    layers.Dense(10, activation='softmax')\n",
    "])\n",
    "cnn_model.compile(optimizer='adam',loss='sparse_categorical_crossentropy',metrics=['accuracy'])"
   ]
  },
  {
   "cell_type": "code",
   "execution_count": 61,
   "metadata": {},
   "outputs": [
    {
     "name": "stdout",
     "output_type": "stream",
     "text": [
      "Epoch 1/10\n",
      "1563/1563 [==============================] - 94s 60ms/step - loss: 1.4879 - accuracy: 0.4552\n",
      "Epoch 2/10\n",
      "1563/1563 [==============================] - 96s 61ms/step - loss: 1.0783 - accuracy: 0.6203\n",
      "Epoch 3/10\n",
      "1563/1563 [==============================] - 95s 61ms/step - loss: 0.8929 - accuracy: 0.6878\n",
      "Epoch 4/10\n",
      "1563/1563 [==============================] - 95s 61ms/step - loss: 0.7808 - accuracy: 0.7253\n",
      "Epoch 5/10\n",
      "1563/1563 [==============================] - 96s 62ms/step - loss: 0.6853 - accuracy: 0.7594\n",
      "Epoch 6/10\n",
      "1563/1563 [==============================] - 96s 61ms/step - loss: 0.5993 - accuracy: 0.7921\n",
      "Epoch 7/10\n",
      "1563/1563 [==============================] - 96s 61ms/step - loss: 0.5328 - accuracy: 0.8134\n",
      "Epoch 8/10\n",
      "1563/1563 [==============================] - 97s 62ms/step - loss: 0.4677 - accuracy: 0.8361\n",
      "Epoch 9/10\n",
      "1563/1563 [==============================] - 96s 62ms/step - loss: 0.4067 - accuracy: 0.85700s - loss: 0.4068 - accuracy: 0.85 - ETA: 0s - loss: 0.406\n",
      "Epoch 10/10\n",
      "1563/1563 [==============================] - 96s 62ms/step - loss: 0.3569 - accuracy: 0.8738\n"
     ]
    },
    {
     "data": {
      "text/plain": [
       "<tensorflow.python.keras.callbacks.History at 0x204a4ebe0a0>"
      ]
     },
     "execution_count": 61,
     "metadata": {},
     "output_type": "execute_result"
    }
   ],
   "source": [
    "cnn_model.fit(X_train,y_train,epochs=10)"
   ]
  },
  {
   "cell_type": "code",
   "execution_count": 62,
   "metadata": {},
   "outputs": [
    {
     "name": "stdout",
     "output_type": "stream",
     "text": [
      "313/313 [==============================] - 3s 9ms/step - loss: 0.9686 - accuracy: 0.7191\n"
     ]
    },
    {
     "data": {
      "text/plain": [
       "[0.9685942530632019, 0.7190999984741211]"
      ]
     },
     "execution_count": 62,
     "metadata": {},
     "output_type": "execute_result"
    }
   ],
   "source": [
    "cnn_model.evaluate(X_test,y_test) # 2% incresase in the accuracy"
   ]
  },
  {
   "cell_type": "code",
   "execution_count": 65,
   "metadata": {},
   "outputs": [],
   "source": [
    "prediction=cnn_model.predict(X_test)"
   ]
  },
  {
   "cell_type": "code",
   "execution_count": 66,
   "metadata": {},
   "outputs": [
    {
     "data": {
      "text/plain": [
       "array([[7.74719927e-04, 8.93456687e-04, 1.02307030e-03, 6.68020785e-01,\n",
       "        2.23487528e-04, 2.75770009e-01, 1.34468381e-03, 2.31147534e-03,\n",
       "        4.96141948e-02, 2.41236521e-05],\n",
       "       [1.63189878e-04, 9.11542593e-05, 1.13771135e-08, 7.29761984e-09,\n",
       "        3.76168680e-11, 1.79704862e-11, 3.57917203e-11, 1.29633717e-11,\n",
       "        9.99742687e-01, 3.02031162e-06],\n",
       "       [3.18401493e-02, 6.79331785e-03, 6.46150624e-03, 5.95550006e-03,\n",
       "        7.79628244e-05, 1.86881993e-03, 1.73838445e-04, 3.35958757e-04,\n",
       "        9.24952626e-01, 2.15403568e-02],\n",
       "       [4.04871225e-01, 2.65342612e-02, 3.23299199e-01, 1.40991405e-01,\n",
       "        1.14971185e-02, 2.67943158e-03, 4.02671508e-02, 4.34880028e-04,\n",
       "        4.34966013e-02, 5.92856249e-03],\n",
       "       [1.43719063e-08, 2.16994721e-07, 6.95811724e-03, 1.68286427e-03,\n",
       "        9.54245389e-01, 2.23089723e-04, 3.68898809e-02, 4.03395632e-07,\n",
       "        3.84306142e-09, 9.87971038e-09]], dtype=float32)"
      ]
     },
     "execution_count": 66,
     "metadata": {},
     "output_type": "execute_result"
    }
   ],
   "source": [
    "prediction[:5]"
   ]
  },
  {
   "cell_type": "code",
   "execution_count": 68,
   "metadata": {},
   "outputs": [
    {
     "data": {
      "text/plain": [
       "[3, 8, 8, 0, 4]"
      ]
     },
     "execution_count": 68,
     "metadata": {},
     "output_type": "execute_result"
    }
   ],
   "source": [
    "predicted_class=[np.argmax(i) for i in prediction]\n",
    "predicted_class[:5]"
   ]
  },
  {
   "cell_type": "code",
   "execution_count": 69,
   "metadata": {},
   "outputs": [
    {
     "data": {
      "text/html": [
       "<div>\n",
       "<style scoped>\n",
       "    .dataframe tbody tr th:only-of-type {\n",
       "        vertical-align: middle;\n",
       "    }\n",
       "\n",
       "    .dataframe tbody tr th {\n",
       "        vertical-align: top;\n",
       "    }\n",
       "\n",
       "    .dataframe thead th {\n",
       "        text-align: right;\n",
       "    }\n",
       "</style>\n",
       "<table border=\"1\" class=\"dataframe\">\n",
       "  <thead>\n",
       "    <tr style=\"text-align: right;\">\n",
       "      <th></th>\n",
       "      <th>pred_airplane</th>\n",
       "      <th>pred_automobile</th>\n",
       "      <th>pred_bird</th>\n",
       "      <th>pred_cat</th>\n",
       "      <th>pred_deer</th>\n",
       "      <th>pred_dog</th>\n",
       "      <th>pred_frog</th>\n",
       "      <th>pred_horse</th>\n",
       "      <th>pred_ship</th>\n",
       "      <th>pred_truck</th>\n",
       "    </tr>\n",
       "  </thead>\n",
       "  <tbody>\n",
       "    <tr>\n",
       "      <th>actual_airplane</th>\n",
       "      <td>781</td>\n",
       "      <td>15</td>\n",
       "      <td>69</td>\n",
       "      <td>36</td>\n",
       "      <td>15</td>\n",
       "      <td>4</td>\n",
       "      <td>8</td>\n",
       "      <td>13</td>\n",
       "      <td>40</td>\n",
       "      <td>19</td>\n",
       "    </tr>\n",
       "    <tr>\n",
       "      <th>actual_automobile</th>\n",
       "      <td>26</td>\n",
       "      <td>811</td>\n",
       "      <td>9</td>\n",
       "      <td>16</td>\n",
       "      <td>6</td>\n",
       "      <td>7</td>\n",
       "      <td>11</td>\n",
       "      <td>6</td>\n",
       "      <td>24</td>\n",
       "      <td>84</td>\n",
       "    </tr>\n",
       "    <tr>\n",
       "      <th>actual_bird</th>\n",
       "      <td>62</td>\n",
       "      <td>5</td>\n",
       "      <td>652</td>\n",
       "      <td>59</td>\n",
       "      <td>82</td>\n",
       "      <td>48</td>\n",
       "      <td>45</td>\n",
       "      <td>29</td>\n",
       "      <td>10</td>\n",
       "      <td>8</td>\n",
       "    </tr>\n",
       "    <tr>\n",
       "      <th>actual_cat</th>\n",
       "      <td>21</td>\n",
       "      <td>4</td>\n",
       "      <td>97</td>\n",
       "      <td>582</td>\n",
       "      <td>70</td>\n",
       "      <td>113</td>\n",
       "      <td>45</td>\n",
       "      <td>33</td>\n",
       "      <td>13</td>\n",
       "      <td>22</td>\n",
       "    </tr>\n",
       "    <tr>\n",
       "      <th>actual_deer</th>\n",
       "      <td>15</td>\n",
       "      <td>0</td>\n",
       "      <td>107</td>\n",
       "      <td>72</td>\n",
       "      <td>699</td>\n",
       "      <td>24</td>\n",
       "      <td>26</td>\n",
       "      <td>47</td>\n",
       "      <td>7</td>\n",
       "      <td>3</td>\n",
       "    </tr>\n",
       "    <tr>\n",
       "      <th>actual_dog</th>\n",
       "      <td>15</td>\n",
       "      <td>1</td>\n",
       "      <td>93</td>\n",
       "      <td>175</td>\n",
       "      <td>53</td>\n",
       "      <td>572</td>\n",
       "      <td>13</td>\n",
       "      <td>56</td>\n",
       "      <td>12</td>\n",
       "      <td>10</td>\n",
       "    </tr>\n",
       "    <tr>\n",
       "      <th>actual_frog</th>\n",
       "      <td>7</td>\n",
       "      <td>3</td>\n",
       "      <td>67</td>\n",
       "      <td>73</td>\n",
       "      <td>45</td>\n",
       "      <td>26</td>\n",
       "      <td>755</td>\n",
       "      <td>8</td>\n",
       "      <td>6</td>\n",
       "      <td>10</td>\n",
       "    </tr>\n",
       "    <tr>\n",
       "      <th>actual_horse</th>\n",
       "      <td>16</td>\n",
       "      <td>0</td>\n",
       "      <td>45</td>\n",
       "      <td>53</td>\n",
       "      <td>96</td>\n",
       "      <td>42</td>\n",
       "      <td>3</td>\n",
       "      <td>725</td>\n",
       "      <td>3</td>\n",
       "      <td>17</td>\n",
       "    </tr>\n",
       "    <tr>\n",
       "      <th>actual_ship</th>\n",
       "      <td>97</td>\n",
       "      <td>21</td>\n",
       "      <td>15</td>\n",
       "      <td>26</td>\n",
       "      <td>10</td>\n",
       "      <td>7</td>\n",
       "      <td>8</td>\n",
       "      <td>5</td>\n",
       "      <td>785</td>\n",
       "      <td>26</td>\n",
       "    </tr>\n",
       "    <tr>\n",
       "      <th>actual_truck</th>\n",
       "      <td>36</td>\n",
       "      <td>52</td>\n",
       "      <td>14</td>\n",
       "      <td>19</td>\n",
       "      <td>8</td>\n",
       "      <td>8</td>\n",
       "      <td>5</td>\n",
       "      <td>15</td>\n",
       "      <td>14</td>\n",
       "      <td>829</td>\n",
       "    </tr>\n",
       "  </tbody>\n",
       "</table>\n",
       "</div>"
      ],
      "text/plain": [
       "                   pred_airplane  pred_automobile  pred_bird  pred_cat  \\\n",
       "actual_airplane              781               15         69        36   \n",
       "actual_automobile             26              811          9        16   \n",
       "actual_bird                   62                5        652        59   \n",
       "actual_cat                    21                4         97       582   \n",
       "actual_deer                   15                0        107        72   \n",
       "actual_dog                    15                1         93       175   \n",
       "actual_frog                    7                3         67        73   \n",
       "actual_horse                  16                0         45        53   \n",
       "actual_ship                   97               21         15        26   \n",
       "actual_truck                  36               52         14        19   \n",
       "\n",
       "                   pred_deer  pred_dog  pred_frog  pred_horse  pred_ship  \\\n",
       "actual_airplane           15         4          8          13         40   \n",
       "actual_automobile          6         7         11           6         24   \n",
       "actual_bird               82        48         45          29         10   \n",
       "actual_cat                70       113         45          33         13   \n",
       "actual_deer              699        24         26          47          7   \n",
       "actual_dog                53       572         13          56         12   \n",
       "actual_frog               45        26        755           8          6   \n",
       "actual_horse              96        42          3         725          3   \n",
       "actual_ship               10         7          8           5        785   \n",
       "actual_truck               8         8          5          15         14   \n",
       "\n",
       "                   pred_truck  \n",
       "actual_airplane            19  \n",
       "actual_automobile          84  \n",
       "actual_bird                 8  \n",
       "actual_cat                 22  \n",
       "actual_deer                 3  \n",
       "actual_dog                 10  \n",
       "actual_frog                10  \n",
       "actual_horse               17  \n",
       "actual_ship                26  \n",
       "actual_truck              829  "
      ]
     },
     "execution_count": 69,
     "metadata": {},
     "output_type": "execute_result"
    }
   ],
   "source": [
    "pd.DataFrame(confusion_matrix(y_test,predicted_class),columns=[f\"pred_{i}\" for i in classes],index=[f\"actual_{i}\" for i in classes])"
   ]
  },
  {
   "cell_type": "code",
   "execution_count": 70,
   "metadata": {},
   "outputs": [
    {
     "name": "stdout",
     "output_type": "stream",
     "text": [
      "              precision    recall  f1-score   support\n",
      "\n",
      "           0       0.73      0.78      0.75      1000\n",
      "           1       0.89      0.81      0.85      1000\n",
      "           2       0.56      0.65      0.60      1000\n",
      "           3       0.52      0.58      0.55      1000\n",
      "           4       0.64      0.70      0.67      1000\n",
      "           5       0.67      0.57      0.62      1000\n",
      "           6       0.82      0.76      0.79      1000\n",
      "           7       0.77      0.72      0.75      1000\n",
      "           8       0.86      0.79      0.82      1000\n",
      "           9       0.81      0.83      0.82      1000\n",
      "\n",
      "    accuracy                           0.72     10000\n",
      "   macro avg       0.73      0.72      0.72     10000\n",
      "weighted avg       0.73      0.72      0.72     10000\n",
      "\n"
     ]
    }
   ],
   "source": [
    "print(classification_report(y_test,predicted_class))"
   ]
  },
  {
   "cell_type": "code",
   "execution_count": 72,
   "metadata": {},
   "outputs": [
    {
     "data": {
      "text/plain": [
       "[4, 6, 7, 9]"
      ]
     },
     "execution_count": 72,
     "metadata": {},
     "output_type": "execute_result"
    }
   ],
   "source": [
    "Get_Wrong_Pred_Index(y_test,predicted_class,0,10)"
   ]
  },
  {
   "cell_type": "code",
   "execution_count": 75,
   "metadata": {},
   "outputs": [
    {
     "data": {
      "image/png": "[encoded data removed]",
      "text/plain": [
       "<Figure size 1080x144 with 1 Axes>"
      ]
     },
     "metadata": {
      "needs_background": "light"
     },
     "output_type": "display_data"
    }
   ],
   "source": [
    "Show_Image(X_test,4,y_test,classes)"
   ]
  },
  {
   "cell_type": "code",
   "execution_count": 76,
   "metadata": {},
   "outputs": [
    {
     "data": {
      "text/plain": [
       "'deer'"
      ]
     },
     "execution_count": 76,
     "metadata": {},
     "output_type": "execute_result"
    }
   ],
   "source": [
    "classes[predicted_class[4]]"
   ]
  },
  {
   "cell_type": "code",
   "execution_count": 77,
   "metadata": {},
   "outputs": [
    {
     "data": {
      "image/png": "[encoded data removed]",
      "text/plain": [
       "<Figure size 1080x144 with 1 Axes>"
      ]
     },
     "metadata": {
      "needs_background": "light"
     },
     "output_type": "display_data"
    }
   ],
   "source": [
    "Show_Image(X_test,6,y_test,classes)"
   ]
  },
  {
   "cell_type": "code",
   "execution_count": 78,
   "metadata": {},
   "outputs": [
    {
     "data": {
      "text/plain": [
       "'truck'"
      ]
     },
     "execution_count": 78,
     "metadata": {},
     "output_type": "execute_result"
    }
   ],
   "source": [
    "classes[predicted_class[6]]"
   ]
  },
  {
   "cell_type": "code",
   "execution_count": 79,
   "metadata": {},
   "outputs": [
    {
     "data": {
      "image/png": "[encoded data removed]",
      "text/plain": [
       "<Figure size 1080x144 with 1 Axes>"
      ]
     },
     "metadata": {
      "needs_background": "light"
     },
     "output_type": "display_data"
    }
   ],
   "source": [
    "Show_Image(X_test,7,y_test,classes)"
   ]
  },
  {
   "cell_type": "code",
   "execution_count": 80,
   "metadata": {},
   "outputs": [
    {
     "data": {
      "text/plain": [
       "'bird'"
      ]
     },
     "execution_count": 80,
     "metadata": {},
     "output_type": "execute_result"
    }
   ],
   "source": [
    "classes[predicted_class[7]]"
   ]
  },
  {
   "cell_type": "code",
   "execution_count": 81,
   "metadata": {},
   "outputs": [
    {
     "data": {
      "image/png": "[encoded data removed]",
      "text/plain": [
       "<Figure size 1080x144 with 1 Axes>"
      ]
     },
     "metadata": {
      "needs_background": "light"
     },
     "output_type": "display_data"
    }
   ],
   "source": [
    "Show_Image(X_test,9,y_test,classes)"
   ]
  },
  {
   "cell_type": "code",
   "execution_count": 82,
   "metadata": {},
   "outputs": [
    {
     "data": {
      "text/plain": [
       "'truck'"
      ]
     },
     "execution_count": 82,
     "metadata": {},
     "output_type": "execute_result"
    }
   ],
   "source": [
    "classes[predicted_class[9]]"
   ]
  },
  {
   "cell_type": "code",
   "execution_count": 85,
   "metadata": {},
   "outputs": [
    {
     "data": {
      "text/plain": [
       "[21, 24]"
      ]
     },
     "execution_count": 85,
     "metadata": {},
     "output_type": "execute_result"
    }
   ],
   "source": [
    "Get_Wrong_Pred_Index(y_test,predicted_class,20,30)"
   ]
  },
  {
   "cell_type": "code",
   "execution_count": 86,
   "metadata": {},
   "outputs": [
    {
     "data": {
      "image/png": "[encoded data removed]",
      "text/plain": [
       "<Figure size 1080x144 with 1 Axes>"
      ]
     },
     "metadata": {
      "needs_background": "light"
     },
     "output_type": "display_data"
    }
   ],
   "source": [
    "Show_Image(X_test,21,y_test,classes)"
   ]
  },
  {
   "cell_type": "code",
   "execution_count": 87,
   "metadata": {},
   "outputs": [
    {
     "data": {
      "text/plain": [
       "'bird'"
      ]
     },
     "execution_count": 87,
     "metadata": {},
     "output_type": "execute_result"
    }
   ],
   "source": [
    "classes[predicted_class[21]]"
   ]
  },
  {
   "cell_type": "code",
   "execution_count": 88,
   "metadata": {},
   "outputs": [
    {
     "data": {
      "image/png": "[encoded data removed]",
      "text/plain": [
       "<Figure size 1080x144 with 1 Axes>"
      ]
     },
     "metadata": {
      "needs_background": "light"
     },
     "output_type": "display_data"
    }
   ],
   "source": [
    "Show_Image(X_test,24,y_test,classes)"
   ]
  },
  {
   "cell_type": "code",
   "execution_count": 89,
   "metadata": {},
   "outputs": [
    {
     "data": {
      "text/plain": [
       "'deer'"
      ]
     },
     "execution_count": 89,
     "metadata": {},
     "output_type": "execute_result"
    }
   ],
   "source": [
    "classes[predicted_class[24]]"
   ]
  },
  {
   "cell_type": "code",
   "execution_count": 90,
   "metadata": {},
   "outputs": [
    {
     "data": {
      "text/plain": [
       "[35]"
      ]
     },
     "execution_count": 90,
     "metadata": {},
     "output_type": "execute_result"
    }
   ],
   "source": [
    "Get_Wrong_Pred_Index(y_test,predicted_class,30,40)"
   ]
  },
  {
   "cell_type": "code",
   "execution_count": 93,
   "metadata": {},
   "outputs": [
    {
     "data": {
      "image/png": "[encoded data removed]",
      "text/plain": [
       "<Figure size 1080x144 with 1 Axes>"
      ]
     },
     "metadata": {
      "needs_background": "light"
     },
     "output_type": "display_data"
    }
   ],
   "source": [
    "Show_Image(X_test,35,y_test,classes)"
   ]
  },
  {
   "cell_type": "code",
   "execution_count": 94,
   "metadata": {},
   "outputs": [
    {
     "data": {
      "text/plain": [
       "'cat'"
      ]
     },
     "execution_count": 94,
     "metadata": {},
     "output_type": "execute_result"
    }
   ],
   "source": [
    "classes[predicted_class[35]]"
   ]
  },
  {
   "cell_type": "code",
   "execution_count": 21,
   "metadata": {},
   "outputs": [],
   "source": [
    "from keras.models import load_model"
   ]
  },
  {
   "cell_type": "code",
   "execution_count": 98,
   "metadata": {},
   "outputs": [],
   "source": [
    "cnn_model.save('cnn.h5')"
   ]
  },
  {
   "cell_type": "code",
   "execution_count": null,
   "metadata": {},
   "outputs": [],
   "source": []
  },
  {
   "cell_type": "code",
   "execution_count": null,
   "metadata": {},
   "outputs": [],
   "source": []
  },
  {
   "cell_type": "code",
   "execution_count": null,
   "metadata": {},
   "outputs": [],
   "source": []
  },
  {
   "cell_type": "code",
   "execution_count": null,
   "metadata": {},
   "outputs": [],
   "source": []
  },
  {
   "cell_type": "code",
   "execution_count": null,
   "metadata": {},
   "outputs": [],
   "source": []
  }
 ],
 "metadata": {
  "kernelspec": {
   "display_name": "Python 3",
   "language": "python",
   "name": "python3"
  },
  "language_info": {
   "codemirror_mode": {
    "name": "ipython",
    "version": 3
   },
   "file_extension": ".py",
   "mimetype": "text/x-python",
   "name": "python",
   "nbconvert_exporter": "python",
   "pygments_lexer": "ipython3",
   "version": "3.8.5"
  }
 },
 "nbformat": 4,
 "nbformat_minor": 4
}
